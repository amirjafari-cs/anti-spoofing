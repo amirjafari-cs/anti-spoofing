{
  "cells": [
    {
      "cell_type": "code",
      "execution_count": 2,
      "metadata": {
        "id": "e5l62LKmffR5"
      },
      "outputs": [],
      "source": [
        "import warnings\n",
        "warnings.filterwarnings('ignore')\n",
        "import os\n",
        "import cv2\n",
        "import keras\n",
        "import numpy as np\n",
        "import pandas as pd\n",
        "from google.colab import drive\n",
        "import matplotlib.pyplot as plt\n",
        "import tensorflow as tf\n",
        "from keras import layers\n",
        "from keras.applications.inception_v3 import InceptionV3\n",
        "from keras.models import Model\n",
        "from keras.utils import to_categorical\n",
        "from tensorflow.keras.preprocessing.image import ImageDataGenerator\n",
        "from keras.callbacks import EarlyStopping, ReduceLROnPlateau, ModelCheckpoint"
      ]
    },
    {
      "cell_type": "markdown",
      "metadata": {
        "id": "qWo39UPWf6t3"
      },
      "source": [
        "## Define Parameters"
      ]
    },
    {
      "cell_type": "code",
      "execution_count": 2,
      "metadata": {
        "id": "lbbhavslZZAR"
      },
      "outputs": [],
      "source": [
        "# parameters\n",
        "IMG_SIZE = 256\n",
        "BATCH_SIZE = 128\n",
        "EPOCHS = 20\n",
        "LEARNING_RATE = 0.001"
      ]
    },
    {
      "cell_type": "markdown",
      "metadata": {
        "id": "qL6ASyR8gNSa"
      },
      "source": [
        "## Localization Network of Spatial Transform Layer"
      ]
    },
    {
      "cell_type": "code",
      "execution_count": 3,
      "metadata": {
        "id": "Z6wbAGffffR8"
      },
      "outputs": [],
      "source": [
        "# Spatial transformer localization network\n",
        "def get_localization_network():\n",
        "    localization = keras.Sequential([\n",
        "        layers.Conv2D(8, kernel_size=7, input_shape=(IMG_SIZE, IMG_SIZE, 3), \\\n",
        "                        activation=\"relu\", kernel_initializer=\"he_normal\"),\n",
        "        layers.MaxPool2D(strides=2),\n",
        "        layers.Conv2D(10, kernel_size=5, activation=\"relu\", kernel_initializer=\"he_normal\"),\n",
        "        layers.MaxPool2D(strides=2),\n",
        "    ])\n",
        "    return localization\n",
        "\n",
        "# Regressor for the 3 * 2 affine matrix\n",
        "def get_affine_params():\n",
        "    output_bias = keras.initializers.Constant([1, 0, 0, 0, 1, 0])\n",
        "    fc_loc = keras.Sequential([\n",
        "        layers.Dense(32, activation=\"relu\", kernel_initializer=\"he_normal\"),\n",
        "        layers.Dense(3 * 2, kernel_initializer=\"zeros\", bias_initializer=output_bias)\n",
        "    ])\n",
        "\n",
        "    return fc_loc"
      ]
    },
    {
      "cell_type": "markdown",
      "metadata": {
        "id": "5rA5I6D_gYl7"
      },
      "source": [
        "## Get Pixel Value of Transformed Image in (x, y)"
      ]
    },
    {
      "cell_type": "code",
      "execution_count": 4,
      "metadata": {
        "id": "VfPHgkUVffR9"
      },
      "outputs": [],
      "source": [
        "def get_pixel_value(img, x, y):\n",
        "    \"\"\"\n",
        "    Utility function to get pixel value for coordinate\n",
        "    vectors x and y from a  4D tensor image.\n",
        "    Input\n",
        "    -----\n",
        "    - img: tensor of shape (B, H, W, C)\n",
        "    - x: flattened tensor of shape (B*H*W,)\n",
        "    - y: flattened tensor of shape (B*H*W,)\n",
        "    Returns\n",
        "    -------\n",
        "    - output: tensor of shape (B, H, W, C)\n",
        "    \"\"\"\n",
        "    shape = tf.shape(x)\n",
        "    batch_size = shape[0]\n",
        "    height = shape[1]\n",
        "    width = shape[2]\n",
        "\n",
        "    batch_idx = tf.range(0, batch_size)\n",
        "    batch_idx = tf.reshape(batch_idx, (batch_size, 1, 1))\n",
        "    b = tf.tile(batch_idx, (1, height, width))\n",
        "\n",
        "    indices = tf.stack([b, y, x], 3)\n",
        "\n",
        "    return tf.gather_nd(img, indices)"
      ]
    },
    {
      "cell_type": "markdown",
      "metadata": {
        "id": "DByxI8vBg0ic"
      },
      "source": [
        "## Get Affine Transform Grid"
      ]
    },
    {
      "cell_type": "code",
      "execution_count": 5,
      "metadata": {
        "id": "qpvySIBDffR9"
      },
      "outputs": [],
      "source": [
        "def affine_grid_generator(height, width, theta):\n",
        "    \"\"\"\n",
        "    This function returns a sampling grid, which when\n",
        "    used with the bilinear sampler on the input feature\n",
        "    map, will create an output feature map that is an\n",
        "    affine transformation [1] of the input feature map.\n",
        "    Input\n",
        "    -----\n",
        "    - height: desired height of grid/output. Used\n",
        "      to downsample or upsample.\n",
        "    - width: desired width of grid/output. Used\n",
        "      to downsample or upsample.\n",
        "    - theta: affine transform matrices of shape (num_batch, 2, 3).\n",
        "      For each image in the batch, we have 6 theta parameters of\n",
        "      the form (2x3) that define the affine transformation T.\n",
        "    Returns\n",
        "    -------\n",
        "    - normalized grid (-1, 1) of shape (num_batch, 2, H, W).\n",
        "      The 2nd dimension has 2 components: (x, y) which are the\n",
        "      sampling points of the original image for each point in the\n",
        "      target image.\n",
        "    Note\n",
        "    ----\n",
        "    [1]: the affine transformation allows cropping, translation,\n",
        "         and isotropic scaling.\n",
        "    \"\"\"\n",
        "    num_batch = tf.shape(theta)[0]\n",
        "\n",
        "    # create normalized 2D grid\n",
        "    x = tf.linspace(-1.0, 1.0, width)\n",
        "    y = tf.linspace(-1.0, 1.0, height)\n",
        "    x_t, y_t = tf.meshgrid(x, y)\n",
        "\n",
        "    # flatten\n",
        "    x_t_flat = tf.reshape(x_t, [-1])\n",
        "    y_t_flat = tf.reshape(y_t, [-1])\n",
        "    # reshape to [x_t, y_t , 1] - (homogeneous form)\n",
        "    ones = tf.ones_like(x_t_flat)\n",
        "    sampling_grid = tf.stack([x_t_flat, y_t_flat, ones])\n",
        "\n",
        "    # repeat grid num_batch times\n",
        "    sampling_grid = tf.expand_dims(sampling_grid, axis=0)\n",
        "    sampling_grid = tf.tile(sampling_grid, tf.stack([num_batch, 1, 1]))\n",
        "\n",
        "    # cast to float32 (required for matmul)\n",
        "    theta = tf.cast(theta, 'float32')\n",
        "    sampling_grid = tf.cast(sampling_grid, 'float32')\n",
        "\n",
        "    # transform the sampling grid - batch multiply\n",
        "    batch_grids = tf.matmul(theta, sampling_grid)\n",
        "    # batch grid has shape (num_batch, 2, H*W)\n",
        "\n",
        "    # reshape to (num_batch, H, W, 2)\n",
        "    batch_grids = tf.reshape(batch_grids, [num_batch, 2, height, width])\n",
        "\n",
        "    return batch_grids"
      ]
    },
    {
      "cell_type": "markdown",
      "metadata": {
        "id": "9t0SCxzwhFnZ"
      },
      "source": [
        "## Transform Image Using Affine Grid"
      ]
    },
    {
      "cell_type": "code",
      "execution_count": 6,
      "metadata": {
        "id": "XWtPsCl8ffR-"
      },
      "outputs": [],
      "source": [
        "def bilinear_sampler(img, x, y):\n",
        "    \"\"\"\n",
        "    Performs bilinear sampling of the input images according to the\n",
        "    normalized coordinates provided by the sampling grid. Note that\n",
        "    the sampling is done identically for each channel of the input.\n",
        "    To test if the function works properly, output image should be\n",
        "    identical to input image when theta is initialized to identity\n",
        "    transform.\n",
        "    Input\n",
        "    -----\n",
        "    - img: batch of images in (B, H, W, C) layout.\n",
        "    - grid: x, y which is the output of affine_grid_generator.\n",
        "    Returns\n",
        "    -------\n",
        "    - out: interpolated images according to grids. Same size as grid.\n",
        "    \"\"\"\n",
        "    H = tf.shape(img)[1]\n",
        "    W = tf.shape(img)[2]\n",
        "    max_y = tf.cast(H - 1, 'int32')\n",
        "    max_x = tf.cast(W - 1, 'int32')\n",
        "    zero = tf.zeros([], dtype='int32')\n",
        "\n",
        "    # rescale x and y to [0, W-1/H-1]\n",
        "    x = tf.cast(x, 'float32')\n",
        "    y = tf.cast(y, 'float32')\n",
        "    x = 0.5 * ((x + 1.0) * tf.cast(max_x-1, 'float32'))\n",
        "    y = 0.5 * ((y + 1.0) * tf.cast(max_y-1, 'float32'))\n",
        "\n",
        "    # grab 4 nearest corner points for each (x_i, y_i)\n",
        "    x0 = tf.cast(tf.floor(x), 'int32')\n",
        "    x1 = x0 + 1\n",
        "    y0 = tf.cast(tf.floor(y), 'int32')\n",
        "    y1 = y0 + 1\n",
        "\n",
        "    # clip to range [0, H-1/W-1] to not violate img boundaries\n",
        "    x0 = tf.clip_by_value(x0, zero, max_x)\n",
        "    x1 = tf.clip_by_value(x1, zero, max_x)\n",
        "    y0 = tf.clip_by_value(y0, zero, max_y)\n",
        "    y1 = tf.clip_by_value(y1, zero, max_y)\n",
        "    # get pixel value at corner coords\n",
        "    Ia = get_pixel_value(img, x0, y0)\n",
        "    Ib = get_pixel_value(img, x0, y1)\n",
        "    Ic = get_pixel_value(img, x1, y0)\n",
        "    Id = get_pixel_value(img, x1, y1)\n",
        "\n",
        "    # recast as float for delta calculation\n",
        "    x0 = tf.cast(x0, 'float32')\n",
        "    x1 = tf.cast(x1, 'float32')\n",
        "    y0 = tf.cast(y0, 'float32')\n",
        "    y1 = tf.cast(y1, 'float32')\n",
        "\n",
        "    # calculate deltas\n",
        "    wa = (x1-x) * (y1-y)\n",
        "    wb = (x1-x) * (y-y0)\n",
        "    wc = (x-x0) * (y1-y)\n",
        "    wd = (x-x0) * (y-y0)\n",
        "\n",
        "    # add dimension for addition\n",
        "    wa = tf.expand_dims(wa, axis=3)\n",
        "    wb = tf.expand_dims(wb, axis=3)\n",
        "    wc = tf.expand_dims(wc, axis=3)\n",
        "    wd = tf.expand_dims(wd, axis=3)\n",
        "\n",
        "    # compute output\n",
        "    out = tf.add_n([wa*Ia, wb*Ib, wc*Ic, wd*Id])\n",
        "\n",
        "    return out"
      ]
    },
    {
      "cell_type": "markdown",
      "metadata": {
        "id": "3CZ-iVpshONH"
      },
      "source": [
        "## Spatial Transform Layer"
      ]
    },
    {
      "cell_type": "code",
      "execution_count": 7,
      "metadata": {
        "id": "kQD-4hsuffR_"
      },
      "outputs": [],
      "source": [
        "# Spatial transformer network forward function\n",
        "def stn(x):\n",
        "    localization = get_localization_network()\n",
        "    fc_loc = get_affine_params()\n",
        "\n",
        "    xs = localization(x)\n",
        "    xs = tf.reshape(xs, (-1, 10 * 60 * 60 ))\n",
        "    theta = fc_loc(xs)\n",
        "    theta = tf.reshape(theta, (-1, 2, 3))\n",
        "\n",
        "    grid = affine_grid_generator(IMG_SIZE, IMG_SIZE, theta)\n",
        "    x_s = grid[:, 0, :, :]\n",
        "    y_s = grid[:, 1, :, :]\n",
        "    x = bilinear_sampler(x, x_s, y_s)\n",
        "\n",
        "    return x"
      ]
    },
    {
      "cell_type": "markdown",
      "metadata": {
        "id": "bCYW8e73hbVN"
      },
      "source": [
        "## Load Data from Google Drive"
      ]
    },
    {
      "cell_type": "code",
      "execution_count": 32,
      "metadata": {
        "colab": {
          "base_uri": "https://localhost:8080/"
        },
        "id": "hFrzySBGhsqi",
        "outputId": "e0eb4ccb-26d2-4a9e-ebbd-8e0bf13f0a19"
      },
      "outputs": [
        {
          "name": "stdout",
          "output_type": "stream",
          "text": [
            "Drive already mounted at /content/drive; to attempt to forcibly remount, call drive.mount(\"/content/drive\", force_remount=True).\n"
          ]
        }
      ],
      "source": [
        "drive.mount('/content/drive')"
      ]
    },
    {
      "cell_type": "markdown",
      "metadata": {
        "id": "jfzLqn1LkIqZ"
      },
      "source": [
        "## Load Train and Test Data as Numpy Array"
      ]
    },
    {
      "cell_type": "code",
      "execution_count": null,
      "metadata": {
        "colab": {
          "base_uri": "https://localhost:8080/"
        },
        "id": "8a2PDJbcffR_",
        "outputId": "e086dfa1-70f5-4e15-c82a-0451bc4005dd"
      },
      "outputs": [
        {
          "name": "stdout",
          "output_type": "stream",
          "text": [
            "x_train shape:  (1655, 256, 256, 3)\n",
            "y_train shape (1655, 2)\n",
            "x_test shape:  (2408, 256, 256, 3)\n",
            "y_test shape:  (2408, 2)\n"
          ]
        }
      ],
      "source": [
        "def get_image_shape(image_path):\n",
        "    image = cv2.imread(image_path, cv2.IMREAD_COLOR)\n",
        "    return image.shape\n",
        "\n",
        "google_colab_base_path = '/content/drive/My Drive/anti-spoofing/'\n",
        "train_data_path = google_colab_base_path + 'train_img/train_img/color/'\n",
        "test_data_path = google_colab_base_path + 'test_img/test_img/color/'\n",
        "\n",
        "# load data\n",
        "train_file_names = os.listdir(train_data_path)\n",
        "test_file_names = os.listdir(test_data_path)\n",
        "train_size = len(train_file_names)\n",
        "test_size = len(test_file_names)\n",
        "\n",
        "train_image_shape = get_image_shape(train_data_path + train_file_names[0])\n",
        "test_image_shape = get_image_shape(train_data_path + train_file_names[0])\n",
        "\n",
        "x_train = np.ndarray(shape=(train_size, train_image_shape[0], train_image_shape[1], train_image_shape[2]), dtype=np.uint8)\n",
        "y_train = np.ndarray(shape=train_size, dtype=np.int8)\n",
        "x_test = np.ndarray(shape=(test_size, test_image_shape[0], test_image_shape[1], test_image_shape[2]), dtype=np.uint8)\n",
        "y_test = np.ndarray(shape=test_size, dtype=np.int8)\n",
        "\n",
        "for i in range(train_size):\n",
        "    image = cv2.imread(train_data_path + train_file_names[i], cv2.IMREAD_COLOR)\n",
        "    x_train[i] = image\n",
        "\n",
        "    if 'real' in train_file_names[i]:\n",
        "        label = 0\n",
        "    elif 'fake' in train_file_names[i]:\n",
        "        label = 1\n",
        "\n",
        "    y_train[i] = label\n",
        "\n",
        "for i in range(test_size):\n",
        "    image = cv2.imread(test_data_path + test_file_names[i], cv2.IMREAD_COLOR)\n",
        "    x_test[i] = image\n",
        "\n",
        "    label = 1\n",
        "    if 'real' in test_file_names[i]:\n",
        "        label = 0\n",
        "    y_test[i] = label\n",
        "\n",
        "x_train = x_train.astype(\"float32\") / 255.0\n",
        "x_train = np.reshape(x_train, (-1, IMG_SIZE, IMG_SIZE, 3))\n",
        "\n",
        "x_test = x_test.astype(\"float32\") / 255.0\n",
        "x_test = np.reshape(x_test, (-1, IMG_SIZE, IMG_SIZE, 3))\n",
        "\n",
        "y_train = to_categorical(y_train, num_classes=2)\n",
        "y_test = to_categorical(y_test, num_classes=2)\n",
        "\n",
        "print('x_train shape: ', x_train.shape)\n",
        "print('y_train shape', y_train.shape)\n",
        "print('x_test shape: ', x_test.shape)\n",
        "print('y_test shape: ', y_test.shape)"
      ]
    },
    {
      "cell_type": "markdown",
      "metadata": {
        "id": "G08TKkMaOJfX"
      },
      "source": [
        "## Create the Model"
      ]
    },
    {
      "cell_type": "code",
      "execution_count": 9,
      "metadata": {
        "colab": {
          "base_uri": "https://localhost:8080/"
        },
        "id": "0uzGf6hVffSB",
        "outputId": "6bca8058-5203-494e-b89e-e3e6b4382a96"
      },
      "outputs": [
        {
          "name": "stdout",
          "output_type": "stream",
          "text": [
            "Downloading data from https://storage.googleapis.com/tensorflow/keras-applications/inception_v3/inception_v3_weights_tf_dim_ordering_tf_kernels_notop.h5\n",
            "87910968/87910968 [==============================] - 5s 0us/step\n"
          ]
        }
      ],
      "source": [
        "# load the pre trained InceptionV3 model\n",
        "base_model = InceptionV3(weights='imagenet', include_top=False)\n",
        "\n",
        "# give the input image to spatial transform layer before inceptionv3\n",
        "input = layers.Input(shape=(IMG_SIZE, IMG_SIZE, 3))\n",
        "x = stn(input)\n",
        "x = base_model(x)\n",
        "\n",
        "# global average pooling layer\n",
        "x = layers.Flatten()(x)\n",
        "\n",
        "# fully connected layer for classification\n",
        "x = layers.Dense(512, activation='relu')(x)\n",
        "x = layers.Dense(256, activation='relu')(x)\n",
        "\n",
        "# output layer\n",
        "output = layers.Dense(2, activation='softmax')(x)\n",
        "\n",
        "# freeze all layers of InceptionV3 model\n",
        "model = Model(inputs=input, outputs=output)\n",
        "for layer in base_model.layers:\n",
        "    layer.trainable = False\n",
        "\n",
        "optimizer = keras.optimizers.Adam(learning_rate=LEARNING_RATE)\n",
        "model.compile(optimizer='adam', loss='binary_crossentropy', metrics=['accuracy'])"
      ]
    },
    {
      "cell_type": "markdown",
      "metadata": {
        "id": "bBmFhCG9OORu"
      },
      "source": [
        "## Model Summery"
      ]
    },
    {
      "cell_type": "code",
      "execution_count": 10,
      "metadata": {
        "colab": {
          "base_uri": "https://localhost:8080/"
        },
        "id": "UHMR7fl0ffSC",
        "outputId": "4969d32d-b8a6-45d3-c29c-cbb2b9ed981a"
      },
      "outputs": [
        {
          "name": "stdout",
          "output_type": "stream",
          "text": [
            "Model: \"model\"\n",
            "__________________________________________________________________________________________________\n",
            " Layer (type)                Output Shape                 Param #   Connected to                  \n",
            "==================================================================================================\n",
            " input_2 (InputLayer)        [(None, 256, 256, 3)]        0         []                            \n",
            "                                                                                                  \n",
            " sequential (Sequential)     (None, 60, 60, 10)           3194      ['input_2[0][0]']             \n",
            "                                                                                                  \n",
            " tf.reshape (TFOpLambda)     (None, 36000)                0         ['sequential[0][0]']          \n",
            "                                                                                                  \n",
            " sequential_1 (Sequential)   (None, 6)                    1152230   ['tf.reshape[0][0]']          \n",
            "                                                                                                  \n",
            " tf.reshape_1 (TFOpLambda)   (None, 2, 3)                 0         ['sequential_1[0][0]']        \n",
            "                                                                                                  \n",
            " tf.compat.v1.shape (TFOpLa  (3,)                         0         ['tf.reshape_1[0][0]']        \n",
            " mbda)                                                                                            \n",
            "                                                                                                  \n",
            " tf.__operators__.getitem (  ()                           0         ['tf.compat.v1.shape[0][0]']  \n",
            " SlicingOpLambda)                                                                                 \n",
            "                                                                                                  \n",
            " tf.stack (TFOpLambda)       (3,)                         0         ['tf.__operators__.getitem[0][\n",
            "                                                                    0]']                          \n",
            "                                                                                                  \n",
            " tf.tile (TFOpLambda)        (None, 3, 65536)             0         ['tf.stack[0][0]']            \n",
            "                                                                                                  \n",
            " tf.cast (TFOpLambda)        (None, 2, 3)                 0         ['tf.reshape_1[0][0]']        \n",
            "                                                                                                  \n",
            " tf.cast_1 (TFOpLambda)      (None, 3, 65536)             0         ['tf.tile[0][0]']             \n",
            "                                                                                                  \n",
            " tf.compat.v1.shape_2 (TFOp  (4,)                         0         ['input_2[0][0]']             \n",
            " Lambda)                                                                                          \n",
            "                                                                                                  \n",
            " tf.linalg.matmul (TFOpLamb  (None, 2, 65536)             0         ['tf.cast[0][0]',             \n",
            " da)                                                                 'tf.cast_1[0][0]']           \n",
            "                                                                                                  \n",
            " tf.__operators__.getitem_4  ()                           0         ['tf.compat.v1.shape_2[0][0]']\n",
            "  (SlicingOpLambda)                                                                               \n",
            "                                                                                                  \n",
            " tf.reshape_2 (TFOpLambda)   (None, 2, 256, 256)          0         ['tf.linalg.matmul[0][0]',    \n",
            "                                                                     'tf.__operators__.getitem[0][\n",
            "                                                                    0]']                          \n",
            "                                                                                                  \n",
            " tf.math.subtract_1 (TFOpLa  ()                           0         ['tf.__operators__.getitem_4[0\n",
            " mbda)                                                              ][0]']                        \n",
            "                                                                                                  \n",
            " tf.__operators__.getitem_1  (None, 256, 256)             0         ['tf.reshape_2[0][0]']        \n",
            "  (SlicingOpLambda)                                                                               \n",
            "                                                                                                  \n",
            " tf.cast_3 (TFOpLambda)      ()                           0         ['tf.math.subtract_1[0][0]']  \n",
            "                                                                                                  \n",
            " tf.compat.v1.shape_1 (TFOp  (4,)                         0         ['input_2[0][0]']             \n",
            " Lambda)                                                                                          \n",
            "                                                                                                  \n",
            " tf.cast_4 (TFOpLambda)      (None, 256, 256)             0         ['tf.__operators__.getitem_1[0\n",
            "                                                                    ][0]']                        \n",
            "                                                                                                  \n",
            " tf.math.subtract_2 (TFOpLa  ()                           0         ['tf.cast_3[0][0]']           \n",
            " mbda)                                                                                            \n",
            "                                                                                                  \n",
            " tf.__operators__.getitem_3  ()                           0         ['tf.compat.v1.shape_1[0][0]']\n",
            "  (SlicingOpLambda)                                                                               \n",
            "                                                                                                  \n",
            " tf.__operators__.add (TFOp  (None, 256, 256)             0         ['tf.cast_4[0][0]']           \n",
            " Lambda)                                                                                          \n",
            "                                                                                                  \n",
            " tf.cast_6 (TFOpLambda)      ()                           0         ['tf.math.subtract_2[0][0]']  \n",
            "                                                                                                  \n",
            " tf.math.subtract (TFOpLamb  ()                           0         ['tf.__operators__.getitem_3[0\n",
            " da)                                                                ][0]']                        \n",
            "                                                                                                  \n",
            " tf.math.multiply (TFOpLamb  (None, 256, 256)             0         ['tf.__operators__.add[0][0]',\n",
            " da)                                                                 'tf.cast_6[0][0]']           \n",
            "                                                                                                  \n",
            " tf.__operators__.getitem_2  (None, 256, 256)             0         ['tf.reshape_2[0][0]']        \n",
            "  (SlicingOpLambda)                                                                               \n",
            "                                                                                                  \n",
            " tf.cast_2 (TFOpLambda)      ()                           0         ['tf.math.subtract[0][0]']    \n",
            "                                                                                                  \n",
            " tf.math.multiply_1 (TFOpLa  (None, 256, 256)             0         ['tf.math.multiply[0][0]']    \n",
            " mbda)                                                                                            \n",
            "                                                                                                  \n",
            " tf.cast_5 (TFOpLambda)      (None, 256, 256)             0         ['tf.__operators__.getitem_2[0\n",
            "                                                                    ][0]']                        \n",
            "                                                                                                  \n",
            " tf.math.subtract_3 (TFOpLa  ()                           0         ['tf.cast_2[0][0]']           \n",
            " mbda)                                                                                            \n",
            "                                                                                                  \n",
            " tf.math.floor (TFOpLambda)  (None, 256, 256)             0         ['tf.math.multiply_1[0][0]']  \n",
            "                                                                                                  \n",
            " tf.__operators__.add_1 (TF  (None, 256, 256)             0         ['tf.cast_5[0][0]']           \n",
            " OpLambda)                                                                                        \n",
            "                                                                                                  \n",
            " tf.cast_7 (TFOpLambda)      ()                           0         ['tf.math.subtract_3[0][0]']  \n",
            "                                                                                                  \n",
            " tf.cast_8 (TFOpLambda)      (None, 256, 256)             0         ['tf.math.floor[0][0]']       \n",
            "                                                                                                  \n",
            " tf.math.multiply_2 (TFOpLa  (None, 256, 256)             0         ['tf.__operators__.add_1[0][0]\n",
            " mbda)                                                              ',                            \n",
            "                                                                     'tf.cast_7[0][0]']           \n",
            "                                                                                                  \n",
            " tf.__operators__.add_2 (TF  (None, 256, 256)             0         ['tf.cast_8[0][0]']           \n",
            " OpLambda)                                                                                        \n",
            "                                                                                                  \n",
            " tf.math.multiply_3 (TFOpLa  (None, 256, 256)             0         ['tf.math.multiply_2[0][0]']  \n",
            " mbda)                                                                                            \n",
            "                                                                                                  \n",
            " tf.clip_by_value_1 (TFOpLa  (None, 256, 256)             0         ['tf.__operators__.add_2[0][0]\n",
            " mbda)                                                              ',                            \n",
            "                                                                     'tf.cast_3[0][0]']           \n",
            "                                                                                                  \n",
            " tf.math.floor_1 (TFOpLambd  (None, 256, 256)             0         ['tf.math.multiply_3[0][0]']  \n",
            " a)                                                                                               \n",
            "                                                                                                  \n",
            " tf.clip_by_value (TFOpLamb  (None, 256, 256)             0         ['tf.cast_8[0][0]',           \n",
            " da)                                                                 'tf.cast_3[0][0]']           \n",
            "                                                                                                  \n",
            " tf.cast_9 (TFOpLambda)      (None, 256, 256)             0         ['tf.math.floor_1[0][0]']     \n",
            "                                                                                                  \n",
            " tf.compat.v1.shape_3 (TFOp  (3,)                         0         ['tf.clip_by_value[0][0]']    \n",
            " Lambda)                                                                                          \n",
            "                                                                                                  \n",
            " tf.compat.v1.shape_4 (TFOp  (3,)                         0         ['tf.clip_by_value[0][0]']    \n",
            " Lambda)                                                                                          \n",
            "                                                                                                  \n",
            " tf.compat.v1.shape_5 (TFOp  (3,)                         0         ['tf.clip_by_value_1[0][0]']  \n",
            " Lambda)                                                                                          \n",
            "                                                                                                  \n",
            " tf.compat.v1.shape_6 (TFOp  (3,)                         0         ['tf.clip_by_value_1[0][0]']  \n",
            " Lambda)                                                                                          \n",
            "                                                                                                  \n",
            " tf.__operators__.add_3 (TF  (None, 256, 256)             0         ['tf.cast_9[0][0]']           \n",
            " OpLambda)                                                                                        \n",
            "                                                                                                  \n",
            " tf.__operators__.getitem_5  ()                           0         ['tf.compat.v1.shape_3[0][0]']\n",
            "  (SlicingOpLambda)                                                                               \n",
            "                                                                                                  \n",
            " tf.__operators__.getitem_8  ()                           0         ['tf.compat.v1.shape_4[0][0]']\n",
            "  (SlicingOpLambda)                                                                               \n",
            "                                                                                                  \n",
            " tf.__operators__.getitem_1  ()                           0         ['tf.compat.v1.shape_5[0][0]']\n",
            " 1 (SlicingOpLambda)                                                                              \n",
            "                                                                                                  \n",
            " tf.__operators__.getitem_1  ()                           0         ['tf.compat.v1.shape_6[0][0]']\n",
            " 4 (SlicingOpLambda)                                                                              \n",
            "                                                                                                  \n",
            " tf.clip_by_value_3 (TFOpLa  (None, 256, 256)             0         ['tf.__operators__.add_3[0][0]\n",
            " mbda)                                                              ',                            \n",
            "                                                                     'tf.cast_2[0][0]']           \n",
            "                                                                                                  \n",
            " tf.range (TFOpLambda)       (None,)                      0         ['tf.__operators__.getitem_5[0\n",
            "                                                                    ][0]']                        \n",
            "                                                                                                  \n",
            " tf.clip_by_value_2 (TFOpLa  (None, 256, 256)             0         ['tf.cast_9[0][0]',           \n",
            " mbda)                                                               'tf.cast_2[0][0]']           \n",
            "                                                                                                  \n",
            " tf.range_1 (TFOpLambda)     (None,)                      0         ['tf.__operators__.getitem_8[0\n",
            "                                                                    ][0]']                        \n",
            "                                                                                                  \n",
            " tf.range_2 (TFOpLambda)     (None,)                      0         ['tf.__operators__.getitem_11[\n",
            "                                                                    0][0]']                       \n",
            "                                                                                                  \n",
            " tf.range_3 (TFOpLambda)     (None,)                      0         ['tf.__operators__.getitem_14[\n",
            "                                                                    0][0]']                       \n",
            "                                                                                                  \n",
            " tf.cast_11 (TFOpLambda)     (None, 256, 256)             0         ['tf.clip_by_value_1[0][0]']  \n",
            "                                                                                                  \n",
            " tf.cast_13 (TFOpLambda)     (None, 256, 256)             0         ['tf.clip_by_value_3[0][0]']  \n",
            "                                                                                                  \n",
            " tf.reshape_3 (TFOpLambda)   (None, 1, 1)                 0         ['tf.range[0][0]',            \n",
            "                                                                     'tf.__operators__.getitem_5[0\n",
            "                                                                    ][0]']                        \n",
            "                                                                                                  \n",
            " tf.__operators__.getitem_6  ()                           0         ['tf.compat.v1.shape_3[0][0]']\n",
            "  (SlicingOpLambda)                                                                               \n",
            "                                                                                                  \n",
            " tf.__operators__.getitem_7  ()                           0         ['tf.compat.v1.shape_3[0][0]']\n",
            "  (SlicingOpLambda)                                                                               \n",
            "                                                                                                  \n",
            " tf.cast_12 (TFOpLambda)     (None, 256, 256)             0         ['tf.clip_by_value_2[0][0]']  \n",
            "                                                                                                  \n",
            " tf.reshape_4 (TFOpLambda)   (None, 1, 1)                 0         ['tf.range_1[0][0]',          \n",
            "                                                                     'tf.__operators__.getitem_8[0\n",
            "                                                                    ][0]']                        \n",
            "                                                                                                  \n",
            " tf.__operators__.getitem_9  ()                           0         ['tf.compat.v1.shape_4[0][0]']\n",
            "  (SlicingOpLambda)                                                                               \n",
            "                                                                                                  \n",
            " tf.__operators__.getitem_1  ()                           0         ['tf.compat.v1.shape_4[0][0]']\n",
            " 0 (SlicingOpLambda)                                                                              \n",
            "                                                                                                  \n",
            " tf.cast_10 (TFOpLambda)     (None, 256, 256)             0         ['tf.clip_by_value[0][0]']    \n",
            "                                                                                                  \n",
            " tf.reshape_5 (TFOpLambda)   (None, 1, 1)                 0         ['tf.range_2[0][0]',          \n",
            "                                                                     'tf.__operators__.getitem_11[\n",
            "                                                                    0][0]']                       \n",
            "                                                                                                  \n",
            " tf.__operators__.getitem_1  ()                           0         ['tf.compat.v1.shape_5[0][0]']\n",
            " 2 (SlicingOpLambda)                                                                              \n",
            "                                                                                                  \n",
            " tf.__operators__.getitem_1  ()                           0         ['tf.compat.v1.shape_5[0][0]']\n",
            " 3 (SlicingOpLambda)                                                                              \n",
            "                                                                                                  \n",
            " tf.reshape_6 (TFOpLambda)   (None, 1, 1)                 0         ['tf.range_3[0][0]',          \n",
            "                                                                     'tf.__operators__.getitem_14[\n",
            "                                                                    0][0]']                       \n",
            "                                                                                                  \n",
            " tf.__operators__.getitem_1  ()                           0         ['tf.compat.v1.shape_6[0][0]']\n",
            " 5 (SlicingOpLambda)                                                                              \n",
            "                                                                                                  \n",
            " tf.__operators__.getitem_1  ()                           0         ['tf.compat.v1.shape_6[0][0]']\n",
            " 6 (SlicingOpLambda)                                                                              \n",
            "                                                                                                  \n",
            " tf.math.subtract_4 (TFOpLa  (None, 256, 256)             0         ['tf.cast_11[0][0]',          \n",
            " mbda)                                                               'tf.math.multiply_1[0][0]']  \n",
            "                                                                                                  \n",
            " tf.math.subtract_5 (TFOpLa  (None, 256, 256)             0         ['tf.cast_13[0][0]',          \n",
            " mbda)                                                               'tf.math.multiply_3[0][0]']  \n",
            "                                                                                                  \n",
            " tf.tile_1 (TFOpLambda)      (None, 256, 256)             0         ['tf.reshape_3[0][0]',        \n",
            "                                                                     'tf.__operators__.getitem_6[0\n",
            "                                                                    ][0]',                        \n",
            "                                                                     'tf.__operators__.getitem_7[0\n",
            "                                                                    ][0]']                        \n",
            "                                                                                                  \n",
            " tf.math.subtract_6 (TFOpLa  (None, 256, 256)             0         ['tf.cast_11[0][0]',          \n",
            " mbda)                                                               'tf.math.multiply_1[0][0]']  \n",
            "                                                                                                  \n",
            " tf.math.subtract_7 (TFOpLa  (None, 256, 256)             0         ['tf.math.multiply_3[0][0]',  \n",
            " mbda)                                                               'tf.cast_12[0][0]']          \n",
            "                                                                                                  \n",
            " tf.tile_2 (TFOpLambda)      (None, 256, 256)             0         ['tf.reshape_4[0][0]',        \n",
            "                                                                     'tf.__operators__.getitem_9[0\n",
            "                                                                    ][0]',                        \n",
            "                                                                     'tf.__operators__.getitem_10[\n",
            "                                                                    0][0]']                       \n",
            "                                                                                                  \n",
            " tf.math.subtract_8 (TFOpLa  (None, 256, 256)             0         ['tf.math.multiply_1[0][0]',  \n",
            " mbda)                                                               'tf.cast_10[0][0]']          \n",
            "                                                                                                  \n",
            " tf.math.subtract_9 (TFOpLa  (None, 256, 256)             0         ['tf.cast_13[0][0]',          \n",
            " mbda)                                                               'tf.math.multiply_3[0][0]']  \n",
            "                                                                                                  \n",
            " tf.tile_3 (TFOpLambda)      (None, 256, 256)             0         ['tf.reshape_5[0][0]',        \n",
            "                                                                     'tf.__operators__.getitem_12[\n",
            "                                                                    0][0]',                       \n",
            "                                                                     'tf.__operators__.getitem_13[\n",
            "                                                                    0][0]']                       \n",
            "                                                                                                  \n",
            " tf.math.subtract_10 (TFOpL  (None, 256, 256)             0         ['tf.math.multiply_1[0][0]',  \n",
            " ambda)                                                              'tf.cast_10[0][0]']          \n",
            "                                                                                                  \n",
            " tf.math.subtract_11 (TFOpL  (None, 256, 256)             0         ['tf.math.multiply_3[0][0]',  \n",
            " ambda)                                                              'tf.cast_12[0][0]']          \n",
            "                                                                                                  \n",
            " tf.tile_4 (TFOpLambda)      (None, 256, 256)             0         ['tf.reshape_6[0][0]',        \n",
            "                                                                     'tf.__operators__.getitem_15[\n",
            "                                                                    0][0]',                       \n",
            "                                                                     'tf.__operators__.getitem_16[\n",
            "                                                                    0][0]']                       \n",
            "                                                                                                  \n",
            " tf.math.multiply_4 (TFOpLa  (None, 256, 256)             0         ['tf.math.subtract_4[0][0]',  \n",
            " mbda)                                                               'tf.math.subtract_5[0][0]']  \n",
            "                                                                                                  \n",
            " tf.stack_1 (TFOpLambda)     (None, 256, 256, 3)          0         ['tf.tile_1[0][0]',           \n",
            "                                                                     'tf.clip_by_value_2[0][0]',  \n",
            "                                                                     'tf.clip_by_value[0][0]']    \n",
            "                                                                                                  \n",
            " tf.math.multiply_5 (TFOpLa  (None, 256, 256)             0         ['tf.math.subtract_6[0][0]',  \n",
            " mbda)                                                               'tf.math.subtract_7[0][0]']  \n",
            "                                                                                                  \n",
            " tf.stack_2 (TFOpLambda)     (None, 256, 256, 3)          0         ['tf.tile_2[0][0]',           \n",
            "                                                                     'tf.clip_by_value_3[0][0]',  \n",
            "                                                                     'tf.clip_by_value[0][0]']    \n",
            "                                                                                                  \n",
            " tf.math.multiply_6 (TFOpLa  (None, 256, 256)             0         ['tf.math.subtract_8[0][0]',  \n",
            " mbda)                                                               'tf.math.subtract_9[0][0]']  \n",
            "                                                                                                  \n",
            " tf.stack_3 (TFOpLambda)     (None, 256, 256, 3)          0         ['tf.tile_3[0][0]',           \n",
            "                                                                     'tf.clip_by_value_2[0][0]',  \n",
            "                                                                     'tf.clip_by_value_1[0][0]']  \n",
            "                                                                                                  \n",
            " tf.math.multiply_7 (TFOpLa  (None, 256, 256)             0         ['tf.math.subtract_10[0][0]', \n",
            " mbda)                                                               'tf.math.subtract_11[0][0]'] \n",
            "                                                                                                  \n",
            " tf.stack_4 (TFOpLambda)     (None, 256, 256, 3)          0         ['tf.tile_4[0][0]',           \n",
            "                                                                     'tf.clip_by_value_3[0][0]',  \n",
            "                                                                     'tf.clip_by_value_1[0][0]']  \n",
            "                                                                                                  \n",
            " tf.expand_dims (TFOpLambda  (None, 256, 256, 1)          0         ['tf.math.multiply_4[0][0]']  \n",
            " )                                                                                                \n",
            "                                                                                                  \n",
            " tf.compat.v1.gather_nd (TF  (None, 256, 256, 3)          0         ['input_2[0][0]',             \n",
            " OpLambda)                                                           'tf.stack_1[0][0]']          \n",
            "                                                                                                  \n",
            " tf.expand_dims_1 (TFOpLamb  (None, 256, 256, 1)          0         ['tf.math.multiply_5[0][0]']  \n",
            " da)                                                                                              \n",
            "                                                                                                  \n",
            " tf.compat.v1.gather_nd_1 (  (None, 256, 256, 3)          0         ['input_2[0][0]',             \n",
            " TFOpLambda)                                                         'tf.stack_2[0][0]']          \n",
            "                                                                                                  \n",
            " tf.expand_dims_2 (TFOpLamb  (None, 256, 256, 1)          0         ['tf.math.multiply_6[0][0]']  \n",
            " da)                                                                                              \n",
            "                                                                                                  \n",
            " tf.compat.v1.gather_nd_2 (  (None, 256, 256, 3)          0         ['input_2[0][0]',             \n",
            " TFOpLambda)                                                         'tf.stack_3[0][0]']          \n",
            "                                                                                                  \n",
            " tf.expand_dims_3 (TFOpLamb  (None, 256, 256, 1)          0         ['tf.math.multiply_7[0][0]']  \n",
            " da)                                                                                              \n",
            "                                                                                                  \n",
            " tf.compat.v1.gather_nd_3 (  (None, 256, 256, 3)          0         ['input_2[0][0]',             \n",
            " TFOpLambda)                                                         'tf.stack_4[0][0]']          \n",
            "                                                                                                  \n",
            " tf.math.multiply_8 (TFOpLa  (None, 256, 256, 3)          0         ['tf.expand_dims[0][0]',      \n",
            " mbda)                                                               'tf.compat.v1.gather_nd[0][0]\n",
            "                                                                    ']                            \n",
            "                                                                                                  \n",
            " tf.math.multiply_9 (TFOpLa  (None, 256, 256, 3)          0         ['tf.expand_dims_1[0][0]',    \n",
            " mbda)                                                               'tf.compat.v1.gather_nd_1[0][\n",
            "                                                                    0]']                          \n",
            "                                                                                                  \n",
            " tf.math.multiply_10 (TFOpL  (None, 256, 256, 3)          0         ['tf.expand_dims_2[0][0]',    \n",
            " ambda)                                                              'tf.compat.v1.gather_nd_2[0][\n",
            "                                                                    0]']                          \n",
            "                                                                                                  \n",
            " tf.math.multiply_11 (TFOpL  (None, 256, 256, 3)          0         ['tf.expand_dims_3[0][0]',    \n",
            " ambda)                                                              'tf.compat.v1.gather_nd_3[0][\n",
            "                                                                    0]']                          \n",
            "                                                                                                  \n",
            " tf.math.add_n (TFOpLambda)  (None, 256, 256, 3)          0         ['tf.math.multiply_8[0][0]',  \n",
            "                                                                     'tf.math.multiply_9[0][0]',  \n",
            "                                                                     'tf.math.multiply_10[0][0]', \n",
            "                                                                     'tf.math.multiply_11[0][0]'] \n",
            "                                                                                                  \n",
            " inception_v3 (Functional)   (None, None, None, 2048)     2180278   ['tf.math.add_n[0][0]']       \n",
            "                                                          4                                       \n",
            "                                                                                                  \n",
            " flatten (Flatten)           (None, 73728)                0         ['inception_v3[0][0]']        \n",
            "                                                                                                  \n",
            " dense_2 (Dense)             (None, 512)                  3774924   ['flatten[0][0]']             \n",
            "                                                          8                                       \n",
            "                                                                                                  \n",
            " dense_3 (Dense)             (None, 256)                  131328    ['dense_2[0][0]']             \n",
            "                                                                                                  \n",
            " dense_4 (Dense)             (None, 2)                    514       ['dense_3[0][0]']             \n",
            "                                                                                                  \n",
            "==================================================================================================\n",
            "Total params: 60839298 (232.08 MB)\n",
            "Trainable params: 39036514 (148.91 MB)\n",
            "Non-trainable params: 21802784 (83.17 MB)\n",
            "__________________________________________________________________________________________________\n"
          ]
        }
      ],
      "source": [
        "model.summary()"
      ]
    },
    {
      "cell_type": "markdown",
      "metadata": {
        "id": "1hpv5ioFOTUM"
      },
      "source": [
        "## Data Augmentation"
      ]
    },
    {
      "cell_type": "code",
      "execution_count": 6,
      "metadata": {
        "colab": {
          "base_uri": "https://localhost:8080/",
          "height": 176
        },
        "id": "Yv5TI04SffSC",
        "outputId": "404c8924-0037-4b09-9e16-5902e9757639"
      },
      "outputs": [],
      "source": [
        "datagen = ImageDataGenerator(\n",
        "    rotation_range=20,\n",
        "    width_shift_range=0.2,\n",
        "    height_shift_range=0.2,\n",
        "    zoom_range=0.2,\n",
        "    horizontal_flip=True,\n",
        "    fill_mode='nearest'\n",
        ")\n",
        "\n",
        "datagen.fit(x_train)"
      ]
    },
    {
      "cell_type": "markdown",
      "metadata": {
        "id": "_1Iofj_2OXIl"
      },
      "source": [
        "## Define Callbacks"
      ]
    },
    {
      "cell_type": "code",
      "execution_count": 7,
      "metadata": {
        "id": "0XlsNMvfffSC"
      },
      "outputs": [],
      "source": [
        "# save the best model in all epochs\n",
        "checkpoint = ModelCheckpoint('deep_clf.keras', verbose=1, monitor='val_loss', save_best_only=True, mode='auto')\n",
        "# stop if model is overfitting\n",
        "early_stopping = EarlyStopping(monitor='val_loss', patience=3)\n",
        "# reduce learning rate when vallidation loss is not improving\n",
        "reduce_lr = ReduceLROnPlateau(monitor='val_loss', factor=0.8, patience=1, min_lr=0.0001)\n",
        "\n",
        "callbacks = [checkpoint, early_stopping, reduce_lr]"
      ]
    },
    {
      "cell_type": "markdown",
      "metadata": {
        "id": "rKC-Oqp5OvG0"
      },
      "source": [
        "## Train the Model"
      ]
    },
    {
      "cell_type": "code",
      "execution_count": null,
      "metadata": {
        "colab": {
          "base_uri": "https://localhost:8080/"
        },
        "id": "RfKYZufzffSD",
        "outputId": "f1286a64-0863-4e84-c327-f073f3883dba"
      },
      "outputs": [
        {
          "name": "stdout",
          "output_type": "stream",
          "text": [
            "Epoch 1/20\n",
            "52/52 [==============================] - ETA: 0s - loss: 0.0784 - accuracy: 0.9704\n",
            "Epoch 1: val_loss did not improve from 0.34152\n",
            "52/52 [==============================] - 66s 1s/step - loss: 0.0784 - accuracy: 0.9704 - val_loss: 0.4769 - val_accuracy: 0.8439 - lr: 2.6214e-04\n",
            "Epoch 2/20\n",
            "52/52 [==============================] - ETA: 0s - loss: 0.0681 - accuracy: 0.9752\n",
            "Epoch 2: val_loss did not improve from 0.34152\n",
            "52/52 [==============================] - 58s 1s/step - loss: 0.0681 - accuracy: 0.9752 - val_loss: 0.4303 - val_accuracy: 0.8571 - lr: 2.6214e-04\n",
            "Epoch 3/20\n",
            "52/52 [==============================] - ETA: 0s - loss: 0.0737 - accuracy: 0.9740\n",
            "Epoch 3: val_loss did not improve from 0.34152\n",
            "52/52 [==============================] - 59s 1s/step - loss: 0.0737 - accuracy: 0.9740 - val_loss: 0.3959 - val_accuracy: 0.8642 - lr: 2.6214e-04\n",
            "Epoch 4/20\n",
            "52/52 [==============================] - ETA: 0s - loss: 0.0776 - accuracy: 0.9698\n",
            "Epoch 4: val_loss did not improve from 0.34152\n",
            "52/52 [==============================] - 58s 1s/step - loss: 0.0776 - accuracy: 0.9698 - val_loss: 0.3663 - val_accuracy: 0.8696 - lr: 2.6214e-04\n",
            "Epoch 5/20\n",
            "52/52 [==============================] - ETA: 0s - loss: 0.0559 - accuracy: 0.9795\n",
            "Epoch 5: val_loss did not improve from 0.34152\n",
            "52/52 [==============================] - 56s 1s/step - loss: 0.0559 - accuracy: 0.9795 - val_loss: 0.3768 - val_accuracy: 0.8704 - lr: 2.6214e-04\n",
            "Epoch 6/20\n",
            "52/52 [==============================] - ETA: 0s - loss: 0.0615 - accuracy: 0.9789\n",
            "Epoch 6: val_loss improved from 0.34152 to 0.32675, saving model to deep_model.keras\n",
            "52/52 [==============================] - 101s 2s/step - loss: 0.0615 - accuracy: 0.9789 - val_loss: 0.3267 - val_accuracy: 0.8846 - lr: 2.0972e-04\n",
            "Epoch 7/20\n",
            "52/52 [==============================] - ETA: 0s - loss: 0.0464 - accuracy: 0.9855\n",
            "Epoch 7: val_loss improved from 0.32675 to 0.32048, saving model to deep_model.keras\n",
            "52/52 [==============================] - 88s 2s/step - loss: 0.0464 - accuracy: 0.9855 - val_loss: 0.3205 - val_accuracy: 0.8900 - lr: 2.0972e-04\n",
            "Epoch 8/20\n",
            "52/52 [==============================] - ETA: 0s - loss: 0.0525 - accuracy: 0.9770\n",
            "Epoch 8: val_loss did not improve from 0.32048\n",
            "52/52 [==============================] - 58s 1s/step - loss: 0.0525 - accuracy: 0.9770 - val_loss: 0.3680 - val_accuracy: 0.8783 - lr: 2.0972e-04\n",
            "Epoch 9/20\n",
            "52/52 [==============================] - ETA: 0s - loss: 0.0499 - accuracy: 0.9819\n",
            "Epoch 9: val_loss did not improve from 0.32048\n",
            "52/52 [==============================] - 59s 1s/step - loss: 0.0499 - accuracy: 0.9819 - val_loss: 0.3409 - val_accuracy: 0.8883 - lr: 1.6777e-04\n",
            "Epoch 10/20\n",
            "52/52 [==============================] - ETA: 0s - loss: 0.0553 - accuracy: 0.9789\n",
            "Epoch 10: val_loss improved from 0.32048 to 0.27805, saving model to deep_model.keras\n",
            "52/52 [==============================] - 80s 2s/step - loss: 0.0553 - accuracy: 0.9789 - val_loss: 0.2780 - val_accuracy: 0.9024 - lr: 1.3422e-04\n",
            "Epoch 11/20\n",
            "52/52 [==============================] - ETA: 0s - loss: 0.0674 - accuracy: 0.9734\n",
            "Epoch 11: val_loss did not improve from 0.27805\n",
            "52/52 [==============================] - 57s 1s/step - loss: 0.0674 - accuracy: 0.9734 - val_loss: 0.2888 - val_accuracy: 0.8999 - lr: 1.3422e-04\n",
            "Epoch 12/20\n",
            "52/52 [==============================] - ETA: 0s - loss: 0.0526 - accuracy: 0.9819\n",
            "Epoch 12: val_loss did not improve from 0.27805\n",
            "52/52 [==============================] - 58s 1s/step - loss: 0.0526 - accuracy: 0.9819 - val_loss: 0.4288 - val_accuracy: 0.8625 - lr: 1.0737e-04\n",
            "Epoch 13/20\n",
            "52/52 [==============================] - ETA: 0s - loss: 0.0495 - accuracy: 0.9831\n",
            "Epoch 13: val_loss did not improve from 0.27805\n",
            "52/52 [==============================] - 57s 1s/step - loss: 0.0495 - accuracy: 0.9831 - val_loss: 0.2858 - val_accuracy: 0.8958 - lr: 1.0000e-04\n"
          ]
        },
        {
          "data": {
            "text/plain": [
              "<keras.src.callbacks.History at 0x7d2f143dba30>"
            ]
          },
          "execution_count": 16,
          "metadata": {},
          "output_type": "execute_result"
        }
      ],
      "source": [
        "model.fit(datagen.flow(x_train, y_train, batch_size=32), callbacks=callbacks, validation_data=(x_test, y_test), epochs=EPOCHS)"
      ]
    }
  ],
  "metadata": {
    "accelerator": "GPU",
    "colab": {
      "gpuType": "T4",
      "provenance": []
    },
    "kernelspec": {
      "display_name": "Python 3",
      "name": "python3"
    },
    "language_info": {
      "codemirror_mode": {
        "name": "ipython",
        "version": 3
      },
      "file_extension": ".py",
      "mimetype": "text/x-python",
      "name": "python",
      "nbconvert_exporter": "python",
      "pygments_lexer": "ipython3",
      "version": "3.12.2"
    }
  },
  "nbformat": 4,
  "nbformat_minor": 0
}
