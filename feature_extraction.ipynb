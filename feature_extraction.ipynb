{
 "cells": [
  {
   "cell_type": "code",
   "execution_count": 1,
   "metadata": {},
   "outputs": [],
   "source": [
    "from skimage import feature\n",
    "from sklearn.metrics import classification_report\n",
    "from sklearn.ensemble import AdaBoostClassifier\n",
    "import numpy as np\n",
    "import cv2\n",
    "import matplotlib.pyplot as plt\n",
    "import pandas as pd\n",
    "import os\n",
    "import warnings\n",
    "warnings.filterwarnings('ignore')\n",
    "from joblib import dump, load\n",
    "from sklearn import svm\n"
   ]
  },
  {
   "cell_type": "code",
   "execution_count": 2,
   "metadata": {},
   "outputs": [],
   "source": [
    "# Function to calculate LBP feature\n",
    "def get_lbp(image, num_points=24, radius=8):\n",
    "    if len(image.shape) == 3 and image.shape[2] != 1:\n",
    "        image = cv2.cvtColor(image, cv2.COLOR_BGR2GRAY)\n",
    "\n",
    "    # Calculate LBP feature\n",
    "    lbp = feature.local_binary_pattern(image, num_points, radius, method=\"uniform\")\n",
    "    \n",
    "    # Calculate histogram\n",
    "    hist, _ = np.histogram(lbp.ravel(), bins=np.arange(0, num_points + 3), range=(0, num_points + 2))\n",
    "    \n",
    "    # Normalize the histogram\n",
    "    hist = hist.astype(\"float\")\n",
    "    hist /= (hist.sum() + 1e-7)\n",
    "    \n",
    "    return hist\n",
    "\n",
    "\n",
    "def get_hog(image):\n",
    "    # Initialize the HOG descriptor\n",
    "    win_size = (192, 256)\n",
    "    block_size = (128, 128)\n",
    "    block_stride = (64, 64)\n",
    "    cell_size = (64, 64)\n",
    "    nbins = 9\n",
    "    deriv_aperture = 1\n",
    "    win_sigma = -1.\n",
    "    histogram_normType = 0\n",
    "    L2Hys_threshold = 0.2\n",
    "    gamma_correction = 1\n",
    "    n_levels = 9\n",
    "    signed_gradient = True\n",
    "\n",
    "    hog = cv2.HOGDescriptor(win_size, block_size, block_stride, cell_size, nbins, deriv_aperture, win_sigma, histogram_normType, L2Hys_threshold, gamma_correction, n_levels, signed_gradient)\n",
    "\n",
    "    # Compute HOG features\n",
    "    features = hog.compute(image)\n",
    "\n",
    "    return features"
   ]
  },
  {
   "cell_type": "code",
   "execution_count": 3,
   "metadata": {},
   "outputs": [],
   "source": [
    "def get_image_shape(image_path):\n",
    "    image = cv2.imread(image_path, cv2.IMREAD_COLOR)\n",
    "    return image.shape"
   ]
  },
  {
   "cell_type": "code",
   "execution_count": 4,
   "metadata": {},
   "outputs": [],
   "source": [
    "train_data_path = './train_img/train_img/color/'\n",
    "test_data_path = './test_img/test_img/color/'\n",
    "\n",
    "# load data\n",
    "train_file_names = os.listdir(train_data_path)\n",
    "test_file_names = os.listdir(test_data_path)\n",
    "train_size = len(train_file_names)\n",
    "test_size = len(test_file_names)\n",
    "\n",
    "train_image_shape = get_image_shape(train_data_path + train_file_names[0])\n",
    "test_image_shape = get_image_shape(train_data_path + train_file_names[0])\n",
    "\n",
    "x_train = np.ndarray(shape=(train_size, train_image_shape[0], train_image_shape[1], train_image_shape[2]), dtype=np.uint8)\n",
    "y_train = np.ndarray(shape=train_size, dtype=np.int8)\n",
    "x_test = np.ndarray(shape=(test_size, test_image_shape[0], test_image_shape[1], test_image_shape[2]), dtype=np.uint8)\n",
    "y_test = np.ndarray(shape=test_size, dtype=np.int8)\n",
    "\n",
    "for i in range(train_size):\n",
    "    image = cv2.imread(train_data_path + train_file_names[i], cv2.IMREAD_COLOR)\n",
    "    x_train[i] = image\n",
    "\n",
    "    if 'real' in train_file_names[i]:\n",
    "        label = 0\n",
    "    elif 'fake' in train_file_names[i]:\n",
    "        label = 1\n",
    "\n",
    "    y_train[i] = label \n",
    "\n",
    "for i in range(test_size):\n",
    "    image = cv2.imread(test_data_path + test_file_names[i], cv2.IMREAD_COLOR)\n",
    "    x_test[i] = image\n",
    "\n",
    "    label = 1\n",
    "    if 'real' in test_file_names[i]:\n",
    "        label = 0\n",
    "    y_test[i] = label"
   ]
  },
  {
   "cell_type": "code",
   "execution_count": 4,
   "metadata": {},
   "outputs": [],
   "source": [
    "def get_feature_vector(image):\n",
    "    lbp = get_lbp(image)\n",
    "    hog = get_hog(image)\n",
    "\n",
    "    feature_vector = np.concatenate((lbp, hog))\n",
    "    return feature_vector"
   ]
  },
  {
   "cell_type": "code",
   "execution_count": 20,
   "metadata": {},
   "outputs": [],
   "source": [
    "x_train_ = np.array(list(map(lambda img: get_feature_vector(img), x_train)))"
   ]
  },
  {
   "cell_type": "code",
   "execution_count": 21,
   "metadata": {},
   "outputs": [],
   "source": [
    "x_test_ = np.array(list(map(lambda img: get_feature_vector(img), x_test)))"
   ]
  },
  {
   "cell_type": "code",
   "execution_count": 34,
   "metadata": {},
   "outputs": [
    {
     "data": {
      "text/plain": [
       "['ada_clf.joblib']"
      ]
     },
     "execution_count": 34,
     "metadata": {},
     "output_type": "execute_result"
    }
   ],
   "source": [
    "base_clf = svm.SVC(probability=True, kernel='rbf')\n",
    "\n",
    "# Define the AdaBoost classifier\n",
    "ada_clf = AdaBoostClassifier(estimator=base_clf, n_estimators=10, learning_rate=0.8, algorithm='SAMME.R', random_state=42)\n",
    "\n",
    "# Train the AdaBoost classifier\n",
    "ada_clf.fit(x_train_, y_train)\n",
    "dump(ada_clf, 'ada_clf.joblib')"
   ]
  },
  {
   "cell_type": "code",
   "execution_count": 35,
   "metadata": {},
   "outputs": [
    {
     "name": "stdout",
     "output_type": "stream",
     "text": [
      "              precision    recall  f1-score   support\n",
      "\n",
      "           0       0.81      0.91      0.86       524\n",
      "           1       0.97      0.94      0.96      1884\n",
      "\n",
      "    accuracy                           0.93      2408\n",
      "   macro avg       0.89      0.92      0.91      2408\n",
      "weighted avg       0.94      0.93      0.93      2408\n",
      "\n"
     ]
    }
   ],
   "source": [
    "ada_pred = ada_clf.predict(x_test_)\n",
    "ada_result = classification_report(ada_pred, y_test)\n",
    "print(ada_result)"
   ]
  }
 ],
 "metadata": {
  "kernelspec": {
   "display_name": "Python 3",
   "language": "python",
   "name": "python3"
  },
  "language_info": {
   "codemirror_mode": {
    "name": "ipython",
    "version": 3
   },
   "file_extension": ".py",
   "mimetype": "text/x-python",
   "name": "python",
   "nbconvert_exporter": "python",
   "pygments_lexer": "ipython3",
   "version": "3.12.2"
  }
 },
 "nbformat": 4,
 "nbformat_minor": 2
}
